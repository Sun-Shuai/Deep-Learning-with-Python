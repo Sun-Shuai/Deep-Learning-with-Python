{
 "cells": [
  {
   "cell_type": "code",
   "execution_count": 1,
   "metadata": {},
   "outputs": [
    {
     "name": "stderr",
     "output_type": "stream",
     "text": [
      "Using TensorFlow backend.\n"
     ]
    }
   ],
   "source": [
    "from keras.datasets import imdb\n",
    "import numpy as np\n",
    "from keras import models\n",
    "from keras import layers\n",
    "import matplotlib.pyplot as plt\n",
    "from keras import optimizers\n",
    "from keras import losses \n",
    "from keras import metrics\n",
    "from keras import regularizers"
   ]
  },
  {
   "cell_type": "code",
   "execution_count": 2,
   "metadata": {
    "scrolled": true
   },
   "outputs": [
    {
     "name": "stdout",
     "output_type": "stream",
     "text": [
      "(25000,)\n",
      "(25000,)\n",
      "(25000,)\n",
      "(25000,)\n"
     ]
    }
   ],
   "source": [
    "(train_data, train_labels), (test_data, test_labels) = imdb.load_data(num_words=10000)\n",
    "print(train_data.shape)\n",
    "print(train_labels.shape)\n",
    "print(test_data.shape)\n",
    "print(test_labels.shape)"
   ]
  },
  {
   "cell_type": "code",
   "execution_count": 3,
   "metadata": {},
   "outputs": [],
   "source": [
    "def vectorize_sequences(sequences, dimension=10000): \n",
    "    results = np.zeros((len(sequences), dimension)) \n",
    "    for i, sequence in enumerate(sequences):\n",
    "        results[i, sequence] = 1. \n",
    "    return results\n",
    "\n",
    "x_train = vectorize_sequences(train_data)\n",
    "x_test = vectorize_sequences(test_data)"
   ]
  },
  {
   "cell_type": "code",
   "execution_count": 4,
   "metadata": {},
   "outputs": [],
   "source": [
    "y_train = np.asarray(train_labels).astype('float32')\n",
    "y_test = np.asarray(test_labels).astype('float32')"
   ]
  },
  {
   "cell_type": "markdown",
   "metadata": {},
   "source": [
    "这个惩罚项只在训练时添加，所以这个网络的训练损失会 比测试损失大很多"
   ]
  },
  {
   "cell_type": "code",
   "execution_count": 5,
   "metadata": {},
   "outputs": [],
   "source": [
    "model = models.Sequential()\n",
    "model.add(layers.Dense(32, activation='relu', kernel_regularizer=regularizers.l2(0.001), input_shape=(10000,))) \n",
    "model.add(layers.Dropout(0.5))\n",
    "model.add(layers.Dense(16, activation='relu', kernel_regularizer=regularizers.l2(0.001))) \n",
    "model.add(layers.Dropout(0.5))\n",
    "model.add(layers.Dense(1, activation='sigmoid'))"
   ]
  },
  {
   "cell_type": "code",
   "execution_count": 6,
   "metadata": {},
   "outputs": [],
   "source": [
    "model.compile(optimizer=optimizers.RMSprop(lr=0.001), \n",
    "              loss=losses.binary_crossentropy,\n",
    "              metrics=[metrics.binary_accuracy])"
   ]
  },
  {
   "cell_type": "code",
   "execution_count": 7,
   "metadata": {},
   "outputs": [],
   "source": [
    "x_val = x_train[:10000]\n",
    "partial_x_train = x_train[10000:]\n",
    "y_val = y_train[:10000] \n",
    "partial_y_train = y_train[10000:]"
   ]
  },
  {
   "cell_type": "code",
   "execution_count": 8,
   "metadata": {},
   "outputs": [
    {
     "name": "stdout",
     "output_type": "stream",
     "text": [
      "Train on 15000 samples, validate on 10000 samples\n",
      "Epoch 1/10\n",
      "15000/15000 [==============================] - 3s 205us/step - loss: 0.6596 - binary_accuracy: 0.6798 - val_loss: 0.5093 - val_binary_accuracy: 0.8531\n",
      "Epoch 2/10\n",
      "15000/15000 [==============================] - 2s 109us/step - loss: 0.5073 - binary_accuracy: 0.8107 - val_loss: 0.4042 - val_binary_accuracy: 0.8775\n",
      "Epoch 3/10\n",
      "15000/15000 [==============================] - 1s 84us/step - loss: 0.4220 - binary_accuracy: 0.8591 - val_loss: 0.3562 - val_binary_accuracy: 0.8851\n",
      "Epoch 4/10\n",
      "15000/15000 [==============================] - 1s 84us/step - loss: 0.3692 - binary_accuracy: 0.8889 - val_loss: 0.3408 - val_binary_accuracy: 0.8860\n",
      "Epoch 5/10\n",
      "15000/15000 [==============================] - 1s 82us/step - loss: 0.3375 - binary_accuracy: 0.9046 - val_loss: 0.3346 - val_binary_accuracy: 0.8882\n",
      "Epoch 6/10\n",
      "15000/15000 [==============================] - 1s 83us/step - loss: 0.3073 - binary_accuracy: 0.9195 - val_loss: 0.3390 - val_binary_accuracy: 0.8881\n",
      "Epoch 7/10\n",
      "15000/15000 [==============================] - 1s 87us/step - loss: 0.2847 - binary_accuracy: 0.9318 - val_loss: 0.3440 - val_binary_accuracy: 0.8855\n",
      "Epoch 8/10\n",
      "15000/15000 [==============================] - 1s 81us/step - loss: 0.2733 - binary_accuracy: 0.9325 - val_loss: 0.3511 - val_binary_accuracy: 0.8869\n",
      "Epoch 9/10\n",
      "15000/15000 [==============================] - 1s 83us/step - loss: 0.2528 - binary_accuracy: 0.9403 - val_loss: 0.3565 - val_binary_accuracy: 0.8852\n",
      "Epoch 10/10\n",
      "15000/15000 [==============================] - 1s 80us/step - loss: 0.2382 - binary_accuracy: 0.9447 - val_loss: 0.3655 - val_binary_accuracy: 0.8844\n"
     ]
    }
   ],
   "source": [
    "history = model.fit(partial_x_train, partial_y_train, epochs=10, batch_size=512, \n",
    "                    validation_data=(x_val, y_val))\n",
    "history_dict = history.history"
   ]
  },
  {
   "cell_type": "code",
   "execution_count": 9,
   "metadata": {},
   "outputs": [
    {
     "data": {
      "image/png": "[encoded data removed]",
      "text/plain": [
       "<Figure size 432x288 with 1 Axes>"
      ]
     },
     "metadata": {
      "needs_background": "light"
     },
     "output_type": "display_data"
    }
   ],
   "source": [
    "history_dict = history.history \n",
    "loss_values = history_dict['loss'] \n",
    "val_loss_values = history_dict['val_loss']\n",
    "epochs = range(1, len(loss_values) + 1)\n",
    "plt.plot(epochs, loss_values, '-o', label='Training loss') \n",
    "plt.plot(epochs, val_loss_values, '-*', label='Validation loss') \n",
    "plt.title('Training and validation loss')\n",
    "plt.xlabel('Epochs')\n",
    "plt.ylabel('Loss') \n",
    "plt.legend()\n",
    "plt.show()"
   ]
  },
  {
   "cell_type": "code",
   "execution_count": 10,
   "metadata": {},
   "outputs": [
    {
     "data": {
      "image/png": "[encoded data removed]",
      "text/plain": [
       "<Figure size 432x288 with 1 Axes>"
      ]
     },
     "metadata": {
      "needs_background": "light"
     },
     "output_type": "display_data"
    }
   ],
   "source": [
    "plt.clf()\n",
    "acc = history_dict['binary_accuracy'] \n",
    "val_acc = history_dict['val_binary_accuracy']\n",
    "plt.plot(epochs, acc, '-o', label='Training acc') \n",
    "plt.plot(epochs, val_acc, '-*', label='Validation acc') \n",
    "plt.title('Training and validation accuracy') \n",
    "plt.xlabel('Epochs')\n",
    "plt.ylabel('Accuracy') \n",
    "plt.legend()\n",
    "plt.show()"
   ]
  },
  {
   "cell_type": "code",
   "execution_count": 11,
   "metadata": {},
   "outputs": [
    {
     "name": "stdout",
     "output_type": "stream",
     "text": [
      "25000/25000 [==============================] - 3s 136us/step\n",
      "[0.3805445855903625, 0.8784800171852112]\n"
     ]
    }
   ],
   "source": [
    "results = model.evaluate(x_test, y_test)\n",
    "print(results)"
   ]
  },
  {
   "cell_type": "code",
   "execution_count": null,
   "metadata": {},
   "outputs": [],
   "source": []
  }
 ],
 "metadata": {
  "kernelspec": {
   "display_name": "Python 3",
   "language": "python",
   "name": "python3"
  },
  "language_info": {
   "codemirror_mode": {
    "name": "ipython",
    "version": 3
   },
   "file_extension": ".py",
   "mimetype": "text/x-python",
   "name": "python",
   "nbconvert_exporter": "python",
   "pygments_lexer": "ipython3",
   "version": "3.6.7"
  }
 },
 "nbformat": 4,
 "nbformat_minor": 1
}
